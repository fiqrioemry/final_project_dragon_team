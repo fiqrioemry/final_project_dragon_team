{
 "cells": [
  {
   "cell_type": "markdown",
   "metadata": {},
   "source": [
    "##### **OBJECTIVE**"
   ]
  },
  {
   "cell_type": "markdown",
   "metadata": {},
   "source": [
    "Optimalisasi strategi pemasaran dan promosi sesuai kebutuhan customer dengan membuat model recommendation system"
   ]
  },
  {
   "cell_type": "markdown",
   "metadata": {},
   "source": [
    "##### **ANALYTICAL APPROACH**"
   ]
  },
  {
   "cell_type": "markdown",
   "metadata": {},
   "source": [
    "Model Building :\n",
    "1. collaborative filtering\n",
    "2. content-based filtering\n",
    "3. Hybrid models\n",
    "\n"
   ]
  }
 ],
 "metadata": {
  "language_info": {
   "name": "python"
  }
 },
 "nbformat": 4,
 "nbformat_minor": 2
}
