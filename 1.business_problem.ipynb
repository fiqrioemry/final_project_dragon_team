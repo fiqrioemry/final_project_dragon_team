{
 "cells": [
  {
   "cell_type": "markdown",
   "metadata": {},
   "source": []
  },
  {
   "cell_type": "markdown",
   "metadata": {},
   "source": [
    "#### **1. BUSINESS PROBLEM UNDERSTANDING**"
   ]
  },
  {
   "cell_type": "markdown",
   "metadata": {},
   "source": [
    "##### **1.1. Business Context**"
   ]
  },
  {
   "cell_type": "markdown",
   "metadata": {},
   "source": [
    "In today’s business world, customers are the most valuable asset. They are the driving force behind any company’s success, particularly in industries as competitive as e-commerce. As the market becomes more saturated and competition heats up, businesses need to focus more on retaining their customers. Why? Because loyal customers are not just repeat buyers—they’re also the key to sustained revenue and long-term growth. Without them, it’s nearly impossible for any business to thrive.\n",
    "\n",
    "Customer loyalty is the backbone of survival in e-commerce. Loyal customers tend to stick around, make more purchases, and even spread the word, helping companies save on marketing costs. Building strong relationships with customers isn’t just nice-to-have; it’s a must-have strategy for any business aiming to stay ahead of the competition.\n",
    "\n",
    "Let’s explore the booming e-commerce market in Brazil. According to the Based on [eCommerce market in Brazil](https://ecommercedb.com/markets/br/all#:~:text=market%20in%20Brazil-,Brazil%20is%20the%2012th%20largest%20market%20for%20eCommerce%20with%20a%20predicted,with%206.1%25%2C%20DIY%20with%205.4%25%2C%20and%20Grocery%20with%20the%20remaining%204.6%25.,-OVERVIEW) report, Brazil is the 12th largest e-commerce market globally. It is projected to reach US$40.636 billion in revenue by 2024. The market is expanding rapidly, with a forecasted compound annual growth rate (CAGR) of 8.9% from 2024 to 2028, potentially reaching US$57.099 billion by 2028. In 2024, the market is expected to grow by 9.8%, contributing to a global e-commerce growth rate of 10.1%. Major categories driving this growth include Electronics (31.9% of revenue), Fashion (27.0%), Hobby & Leisure (14.1%), Furniture & Homeware (10.9%), Care Products (6.1%), DIY (5.4%), and Grocery (4.6%).\n",
    "\n",
    "Amid this growth, Olist has emerged as a game-changer for small and medium-sized businesses in Brazil. So, what exactly is Olist, and how does it work? Olist is a powerful e-commerce platform that helps smaller businesses sell their products online by connecting them to 13 of Brazil’s biggest marketplaces—like Amazon, Submarino, and Americanas.com—all through a single platform.\n",
    "\n",
    "Olist operates with a straightforward and effective business model designed to support small and medium-sized businesses. By partnering with major e-commerce marketplaces across Brazil, Olist allows these businesses to list their products on multiple platforms with just one contract. This integration means that sellers can access a broad customer base through Olist’s network of partners, simplifying their online presence.\n",
    "\n",
    "Sellers list their products through Olist Store, and Olist’s logistics partners handle the delivery directly to the customers. Once a purchase is made, the seller receives all necessary details to fulfill the order. After the product is shipped and delivered, or if the estimated delivery date passes, Olist sends a satisfaction survey to the customer via email. This survey allows customers to provide feedback on their shopping experience, helping Olist and the sellers to continuously improve their services.\n",
    "\n",
    "Olist generates revenue through several key channels. Primarily based on [Olist Profit](https://medium.com/@fercanc/how-can-olist-increase-its-profit-ef58e3f274e#:~:text=P%26L%20Rules,each%20order%20delivered.), Olist takes a 10% commission on the product price (excluding freight) for each order delivered through its platform. Additionally, Olist charges a monthly subscription fee of R$80 or US$14,63 per seller for access to its services. Beyond these, Olist may also generate income from premium services, such as enhanced product listings and advanced analytics, and potentially from additional advertising or promotional features. This multi-faceted approach to revenue generation ensures that Olist profits from both the volume of sales and the added value it offers to its sellers.\n",
    "\n",
    "Olist significantly impacts the Brazilian e-commerce landscape by enabling small businesses to compete on a larger scale. By simplifying the selling process and offering access to a broad network of marketplaces, Olist helps merchants reach more customers without the complexities of managing multiple sales channels and logistics on their own. This democratization of online selling supports the growth of Brazil’s e-commerce market and encourages entrepreneurship across the country.\n",
    "\n",
    "In this project, we’ll be utilizing the Brazilian E-Commerce Public Dataset by Olist, available on Kaggle. This dataset encompasses over 100,000 orders from 2016 to 2018, detailing various aspects such as order status, payment methods, prices, and customer reviews. It also includes geolocation data, providing insights into customer behavior and location patterns. This rich dataset will help us analyze trends and behaviors in Brazilian e-commerce, offering valuable insights for optimizing strategies and improving customer experiences."
   ]
  },
  {
   "cell_type": "markdown",
   "metadata": {},
   "source": [
    "##### **1.2. Problem Statement**"
   ]
  },
  {
   "cell_type": "markdown",
   "metadata": {},
   "source": [
    "Olist, a well-known e-commerce platform in Brazil, is dealing with a **serious challenge when it comes to customer retention**. Data from 2016 to 2018 shows that **97% of customers only make one purchase and do not come back, leaving just 3% as repeat buyers**. This low retention rate has a significant impact on Olist's revenue and growth potential.\n",
    "\n",
    "Based on the provided dataset, the customer proportions by the number of purchases are:\n",
    "  - **One-time Buyers** (Single Purchase): **89,356 customers** (97%)\n",
    "  - **Repeat Buyers** (Multiple Purchases): **2,742 customers** (3%)\n",
    "  \n",
    "According to [Olist Profit](https://medium.com/@fercanc/how-can-olist-increase-its-profit-ef58e3f274e#:~:text=P%26L%20Rules,each%20order%20delivered.), Olist earns a 10% commission on the product price (excluding freight) for each order delivered. From the dataset, we calculated that the **average revenue per customer’s order is approximately R$14.44**, derived from this 10% commission. Additionally, our calculations show that **repeat buyers make an average of about 2 purchases each**.\n",
    "\n",
    "Therefore, Olist's revenue from its commission can be calculated as follows:\n",
    "1. **Revenue from One-time Buyers:**\n",
    "    - **Total Number of One-time Buyers** x **Commission per Order** = 89,356 x R$14.44 = R$1,290,300.64\n",
    "\n",
    "2. **Revenue from Repeat Buyers:**\n",
    "    - **Total Orders by Repeat Buyers:** \n",
    "      - **Total Number of Repeat Buyers** x **Average Purchases per Repeat Buyer** = 2,742 x 2 = 5,484\n",
    "    - **Total Revenue from Repeat Buyers:**\n",
    "      - **Total Orders by Repeat Buyers** x **Commission per Order** = 5,484 x R$14.44 = R$79,188.96\n",
    "\n",
    "3. **Total Revenue from All Customers:**\n",
    "    - **Total Revenue from One-time Buyers** + **Total Revenue from Repeat Buyers** = R$1,290,300.64 + R$79,188.96 = **R$1,369,489**\n",
    "\n",
    "The code-generated calculation confirms that Olist's revenue is also approximately R$1.37  million, based on summing all commissions (10% of the product prices) from all ordered products. This verifies that the previous information is accurate and aligns with the dataset. Therefore, this information can be used to estimate the potential revenue for the target goals.\n",
    "\n",
    "**Olist’s revenue of approximately R$1.37 million from 2016 to 2018 represents only a tiny fraction of the overall Brazilian e-commerce market**. According to [eCommerce Revenue Development in Brazil](https://ecommercedb.com/insights/ecommerce-revenue-development-in-brazil/1006606#:~:text=In%202017%2C%20the%20revenue%20stood%20at%20US%2419.5%20billion%2C%20marking%20the%20starting%20point%20of%20this%20upward%20trajectory.%20Subsequent%20years%20saw%20a%20steady%20increase%2C%20with%202018%20recording%20US%2420.2%20billion%20and%202019%20reaching%20US%2423.7%20billion.), the **Brazilian e-commerce market was valued at US$19.5 billion in 2017. It grew to US$20.2 billion in 2018** and reached US$23.7 billion in 2019. In this rapidly expanding market, Olist’s share is very small. The current problem is that 97% of Olist’s customers make only a single purchase and never return. This low retention rate means Olist is missing out on a massive opportunity for growth.\n",
    "\n",
    "Imagine if Olist could turn even a small percentage of those one-time buyers into repeat customers. The potential revenue increase would be substantial. Repeat customers are not only more profitable because they buy more often but also because they contribute to a more stable and predictable revenue stream. In short, improving customer retention is not just a nice-to-have; it’s crucial for Olist’s survival and growth. To thrive in the booming Brazilian e-commerce market, Olist must focus on turning one-time buyers into loyal customers. This shift could transform their financial performance and help capture a larger share of the rapidly growing market."
   ]
  },
  {
   "cell_type": "markdown",
   "metadata": {},
   "source": [
    "##### **1.3. Goals**"
   ]
  },
  {
   "cell_type": "markdown",
   "metadata": {},
   "source": [
    "The goal is to develop a recommendation system that effectively increases customer retention, specifically aiming to boost the percentage of repeat buyers from 3% to 5%. This increase will drive higher revenues by converting more one-time buyers into loyal customers, and ensure more stable growth in the competitive Brazilian e-commerce market. As stated by [Ashwani Patel](https://www.linkedin.com/pulse/in-depth-read-how-do-recommender-systems-work-ashwani-patel/#:~:text=What%20are%20the,satisfaction%20and%20retention.) and [Zuzanna Pajorska](https://stratoflow.com/product-recommender-for-ecommerce/#:~:text=What%20are%20the,through%20personalized%20suggestions.), recommendation systems are powerful tools and the most effective strategy for boosting revenue and improving customer retention. By providing personalized product suggestions, it encourages repeat purchases, leading to higher sales and a more loyal customer base. \n",
    "\n",
    "Therefore, below is the calculation of the expected revenue growth by implementing the recommendation system. Since the above information in the problem statement aligns with the dataset, we will use the information to calculate our target goals.\n",
    "\n",
    "**Previous Information**:\n",
    "1. **Total Customers**: 89,356 customers\n",
    "2. **Number of Repeat Buyers**: 2,742 customers\n",
    "3. **Current Repeat Buyers Percentage**: 3%\n",
    "4. **Average Number of Purchases per Repeat Buyers**: 2 purchases\n",
    "5. **Average Revenue per Customer's Order**: R$14.44\n",
    "6. **Revenue from Current Repeat Buyers**: R$79,188\n",
    "7. **Current Total Revenue from All Customers**: R$1,369,489\n",
    "\n",
    "**Expected Revenue Growth Calculation**:\n",
    "1. **Target Repeat Buyer Percentage: 5%**\n",
    "    - **Target Number of Repeat Buyers**:\n",
    "        - 5% of total customers = 5% × 89,356 customers = 4,467 customers\n",
    "    - **Expected Revenue from Target Repeat Buyers**:\n",
    "        - **Total Orders by Target Repeat Buyers**: \n",
    "            - 4,467 customers × 2 purchases = 8,934 orders\n",
    "        - **Total Revenue from Target Repeat Buyers**: \n",
    "            - 8,934 orders × R$14.44 = **R$129,007**\n",
    "\n",
    "2. **Expected Revenue Growth**:\n",
    "    - **Increase in Revenue from Repeat Buyers**: \n",
    "        - R$129,007 (target) - R$79,188 (current) = **R$48,819**\n",
    "    - **Expected Total Revenue After Increase**:\n",
    "        - R$1,369,489 + R$48,819= **R$1,419,308**\n",
    "    - **Expected Revenue Growth Percentage**:\n",
    "        - ((R$1,419,308 - R$1,369,489) / R$1,369,489) × 100 = **3.64%**\n",
    "\n",
    "By achieving the target of **increasing repeat buyers to 5%**, Olist can expect an approximate **revenue increase of R$48,819**, which represents a **3.64% growth in total revenue**. This highlights the significant impact of the recommendation system in driving business growth."
   ]
  },
  {
   "cell_type": "markdown",
   "metadata": {},
   "source": [
    "##### **1.4. Analytical Approach (Models and Evaluation Metrics)**"
   ]
  },
  {
   "cell_type": "markdown",
   "metadata": {},
   "source": [
    "*THIS SECTION LEFT BLANK*"
   ]
  }
 ],
 "metadata": {
  "kernelspec": {
   "display_name": "Python 3",
   "language": "python",
   "name": "python3"
  },
  "language_info": {
   "codemirror_mode": {
    "name": "ipython",
    "version": 3
   },
   "file_extension": ".py",
   "mimetype": "text/x-python",
   "name": "python",
   "nbconvert_exporter": "python",
   "pygments_lexer": "ipython3",
   "version": "3.12.2"
  }
 },
 "nbformat": 4,
 "nbformat_minor": 2
}
